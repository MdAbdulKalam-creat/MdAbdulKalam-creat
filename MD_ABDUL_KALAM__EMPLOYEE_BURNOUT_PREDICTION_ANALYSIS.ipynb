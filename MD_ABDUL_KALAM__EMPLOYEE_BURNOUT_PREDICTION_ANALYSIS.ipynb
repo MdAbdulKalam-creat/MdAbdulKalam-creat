The Link to The Employees Burnout Analysis and Prediction Project Using AIML is Given Below:
Google Colab Link: https://colab.research.google.com/drive/180813suw917pJKRWCRj0azYLvP_ZoEU3?usp=sharing
